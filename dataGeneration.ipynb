{
  "nbformat": 4,
  "nbformat_minor": 0,
  "metadata": {
    "colab": {
      "provenance": []
    },
    "kernelspec": {
      "name": "python3",
      "display_name": "Python 3"
    },
    "language_info": {
      "name": "python"
    }
  },
  "cells": [
    {
      "cell_type": "code",
      "execution_count": 4,
      "metadata": {
        "id": "_xENL59V0--J",
        "colab": {
          "base_uri": "https://localhost:8080/"
        },
        "outputId": "c9dc1000-c7e4-4138-8a4a-561de264a832"
      },
      "outputs": [
        {
          "output_type": "stream",
          "name": "stdout",
          "text": [
            "Looking in indexes: https://pypi.org/simple, https://us-python.pkg.dev/colab-wheels/public/simple/\n",
            "Collecting poliastro\n",
            "  Downloading poliastro-0.17.0-py3-none-any.whl (162 kB)\n",
            "\u001b[2K     \u001b[90m━━━━━━━━━━━━━━━━━━━━━━━━━━━━━━━━━━━━━━━\u001b[0m \u001b[32m162.7/162.7 kB\u001b[0m \u001b[31m7.3 MB/s\u001b[0m eta \u001b[36m0:00:00\u001b[0m\n",
            "\u001b[?25hRequirement already satisfied: astropy<6,>=5.0 in /usr/local/lib/python3.9/dist-packages (from poliastro) (5.2.2)\n",
            "Requirement already satisfied: scipy>=1.4.0 in /usr/local/lib/python3.9/dist-packages (from poliastro) (1.10.1)\n",
            "Collecting astroquery>=0.3.9\n",
            "  Downloading astroquery-0.4.6-py3-none-any.whl (4.5 MB)\n",
            "\u001b[2K     \u001b[90m━━━━━━━━━━━━━━━━━━━━━━━━━━━━━━━━━━━━━━━━\u001b[0m \u001b[32m4.5/4.5 MB\u001b[0m \u001b[31m63.5 MB/s\u001b[0m eta \u001b[36m0:00:00\u001b[0m\n",
            "\u001b[?25hRequirement already satisfied: numpy in /usr/local/lib/python3.9/dist-packages (from poliastro) (1.22.4)\n",
            "Requirement already satisfied: matplotlib!=3.0.1,>=2.0 in /usr/local/lib/python3.9/dist-packages (from poliastro) (3.7.1)\n",
            "Requirement already satisfied: numba>=0.53.0 in /usr/local/lib/python3.9/dist-packages (from poliastro) (0.56.4)\n",
            "Requirement already satisfied: plotly<6,>=4.0 in /usr/local/lib/python3.9/dist-packages (from poliastro) (5.13.1)\n",
            "Requirement already satisfied: pandas in /usr/local/lib/python3.9/dist-packages (from poliastro) (1.5.3)\n",
            "Requirement already satisfied: pyerfa in /usr/local/lib/python3.9/dist-packages (from poliastro) (2.0.0.3)\n",
            "Collecting jplephem\n",
            "  Downloading jplephem-2.18-py3-none-any.whl (46 kB)\n",
            "\u001b[2K     \u001b[90m━━━━━━━━━━━━━━━━━━━━━━━━━━━━━━━━━━━━━━━━\u001b[0m \u001b[32m46.7/46.7 kB\u001b[0m \u001b[31m5.6 MB/s\u001b[0m eta \u001b[36m0:00:00\u001b[0m\n",
            "\u001b[?25hRequirement already satisfied: packaging>=19.0 in /usr/local/lib/python3.9/dist-packages (from astropy<6,>=5.0->poliastro) (23.1)\n",
            "Requirement already satisfied: PyYAML>=3.13 in /usr/local/lib/python3.9/dist-packages (from astropy<6,>=5.0->poliastro) (6.0)\n",
            "Requirement already satisfied: html5lib>=0.999 in /usr/local/lib/python3.9/dist-packages (from astroquery>=0.3.9->poliastro) (1.1)\n",
            "Requirement already satisfied: beautifulsoup4>=4.3.2 in /usr/local/lib/python3.9/dist-packages (from astroquery>=0.3.9->poliastro) (4.11.2)\n",
            "Collecting keyring>=4.0\n",
            "  Downloading keyring-23.13.1-py3-none-any.whl (37 kB)\n",
            "Collecting pyvo>=1.1\n",
            "  Downloading pyvo-1.4.1-py3-none-any.whl (887 kB)\n",
            "\u001b[2K     \u001b[90m━━━━━━━━━━━━━━━━━━━━━━━━━━━━━━━━━━━━━━\u001b[0m \u001b[32m887.9/887.9 kB\u001b[0m \u001b[31m54.4 MB/s\u001b[0m eta \u001b[36m0:00:00\u001b[0m\n",
            "\u001b[?25hRequirement already satisfied: requests>=2.4.3 in /usr/local/lib/python3.9/dist-packages (from astroquery>=0.3.9->poliastro) (2.27.1)\n",
            "Requirement already satisfied: python-dateutil>=2.7 in /usr/local/lib/python3.9/dist-packages (from matplotlib!=3.0.1,>=2.0->poliastro) (2.8.2)\n",
            "Requirement already satisfied: cycler>=0.10 in /usr/local/lib/python3.9/dist-packages (from matplotlib!=3.0.1,>=2.0->poliastro) (0.11.0)\n",
            "Requirement already satisfied: pillow>=6.2.0 in /usr/local/lib/python3.9/dist-packages (from matplotlib!=3.0.1,>=2.0->poliastro) (8.4.0)\n",
            "Requirement already satisfied: pyparsing>=2.3.1 in /usr/local/lib/python3.9/dist-packages (from matplotlib!=3.0.1,>=2.0->poliastro) (3.0.9)\n",
            "Requirement already satisfied: importlib-resources>=3.2.0 in /usr/local/lib/python3.9/dist-packages (from matplotlib!=3.0.1,>=2.0->poliastro) (5.12.0)\n",
            "Requirement already satisfied: contourpy>=1.0.1 in /usr/local/lib/python3.9/dist-packages (from matplotlib!=3.0.1,>=2.0->poliastro) (1.0.7)\n",
            "Requirement already satisfied: kiwisolver>=1.0.1 in /usr/local/lib/python3.9/dist-packages (from matplotlib!=3.0.1,>=2.0->poliastro) (1.4.4)\n",
            "Requirement already satisfied: fonttools>=4.22.0 in /usr/local/lib/python3.9/dist-packages (from matplotlib!=3.0.1,>=2.0->poliastro) (4.39.3)\n",
            "Requirement already satisfied: setuptools in /usr/local/lib/python3.9/dist-packages (from numba>=0.53.0->poliastro) (67.7.2)\n",
            "Requirement already satisfied: llvmlite<0.40,>=0.39.0dev0 in /usr/local/lib/python3.9/dist-packages (from numba>=0.53.0->poliastro) (0.39.1)\n",
            "Requirement already satisfied: tenacity>=6.2.0 in /usr/local/lib/python3.9/dist-packages (from plotly<6,>=4.0->poliastro) (8.2.2)\n",
            "Requirement already satisfied: pytz>=2020.1 in /usr/local/lib/python3.9/dist-packages (from pandas->poliastro) (2022.7.1)\n",
            "Requirement already satisfied: soupsieve>1.2 in /usr/local/lib/python3.9/dist-packages (from beautifulsoup4>=4.3.2->astroquery>=0.3.9->poliastro) (2.4.1)\n",
            "Requirement already satisfied: six>=1.9 in /usr/local/lib/python3.9/dist-packages (from html5lib>=0.999->astroquery>=0.3.9->poliastro) (1.16.0)\n",
            "Requirement already satisfied: webencodings in /usr/local/lib/python3.9/dist-packages (from html5lib>=0.999->astroquery>=0.3.9->poliastro) (0.5.1)\n",
            "Requirement already satisfied: zipp>=3.1.0 in /usr/local/lib/python3.9/dist-packages (from importlib-resources>=3.2.0->matplotlib!=3.0.1,>=2.0->poliastro) (3.15.0)\n",
            "Collecting jaraco.classes\n",
            "  Downloading jaraco.classes-3.2.3-py3-none-any.whl (6.0 kB)\n",
            "Collecting jeepney>=0.4.2\n",
            "  Downloading jeepney-0.8.0-py3-none-any.whl (48 kB)\n",
            "\u001b[2K     \u001b[90m━━━━━━━━━━━━━━━━━━━━━━━━━━━━━━━━━━━━━━━━\u001b[0m \u001b[32m48.4/48.4 kB\u001b[0m \u001b[31m6.0 MB/s\u001b[0m eta \u001b[36m0:00:00\u001b[0m\n",
            "\u001b[?25hRequirement already satisfied: importlib-metadata>=4.11.4 in /usr/local/lib/python3.9/dist-packages (from keyring>=4.0->astroquery>=0.3.9->poliastro) (6.6.0)\n",
            "Collecting SecretStorage>=3.2\n",
            "  Downloading SecretStorage-3.3.3-py3-none-any.whl (15 kB)\n",
            "Requirement already satisfied: charset-normalizer~=2.0.0 in /usr/local/lib/python3.9/dist-packages (from requests>=2.4.3->astroquery>=0.3.9->poliastro) (2.0.12)\n",
            "Requirement already satisfied: certifi>=2017.4.17 in /usr/local/lib/python3.9/dist-packages (from requests>=2.4.3->astroquery>=0.3.9->poliastro) (2022.12.7)\n",
            "Requirement already satisfied: urllib3<1.27,>=1.21.1 in /usr/local/lib/python3.9/dist-packages (from requests>=2.4.3->astroquery>=0.3.9->poliastro) (1.26.15)\n",
            "Requirement already satisfied: idna<4,>=2.5 in /usr/local/lib/python3.9/dist-packages (from requests>=2.4.3->astroquery>=0.3.9->poliastro) (3.4)\n",
            "Requirement already satisfied: cryptography>=2.0 in /usr/local/lib/python3.9/dist-packages (from SecretStorage>=3.2->keyring>=4.0->astroquery>=0.3.9->poliastro) (40.0.2)\n",
            "Requirement already satisfied: more-itertools in /usr/local/lib/python3.9/dist-packages (from jaraco.classes->keyring>=4.0->astroquery>=0.3.9->poliastro) (9.1.0)\n",
            "Requirement already satisfied: cffi>=1.12 in /usr/local/lib/python3.9/dist-packages (from cryptography>=2.0->SecretStorage>=3.2->keyring>=4.0->astroquery>=0.3.9->poliastro) (1.15.1)\n",
            "Requirement already satisfied: pycparser in /usr/local/lib/python3.9/dist-packages (from cffi>=1.12->cryptography>=2.0->SecretStorage>=3.2->keyring>=4.0->astroquery>=0.3.9->poliastro) (2.21)\n",
            "Installing collected packages: jplephem, jeepney, jaraco.classes, SecretStorage, pyvo, keyring, astroquery, poliastro\n",
            "Successfully installed SecretStorage-3.3.3 astroquery-0.4.6 jaraco.classes-3.2.3 jeepney-0.8.0 jplephem-2.18 keyring-23.13.1 poliastro-0.17.0 pyvo-1.4.1\n"
          ]
        }
      ],
      "source": [
        "#Installs the Poliastro librabry in order to use its lambert solver\n",
        "!pip install poliastro"
      ]
    },
    {
      "cell_type": "code",
      "source": [
        "#Importing all packages used for the code\n",
        "import numpy as np\n",
        "from astropy import units as u\n",
        "from poliastro.bodies import Earth\n",
        "from poliastro.iod import izzo\n",
        "import random\n",
        "\n",
        "# A function that, when called, returns a (1x3) array in which each position contains a uniformly randomized integer between -10000 and 10000 in poliasto kilometer units\n",
        "def random_position():\n",
        "    return np.array([random.uniform(-10000, 10000), random.uniform(-10000, 10000), random.uniform(-10000, 10000)]) * u.km\n",
        "\n",
        "# Optimum loop function\n",
        "#Four inputs: r0 represents the initial postion vector, rf represents the final position vector, and tof is the time of flight.\n",
        "#Max_revs represents the maximum number of revolutions the lambert solver can loop to. The function returns the optimum solution(initial and velocity vectors)\n",
        "#The function will also return the optimal_num_revs which is the revolution related to the solution that produced the lowest delta-V\n",
        "def find_optimal_solution(r0, rf, tof, max_revs):\n",
        "    #Initializing returning values\n",
        "    min_delta_v = float(\"inf\")\n",
        "    optimal_solution = None\n",
        "    optimal_num_revs = None\n",
        "\n",
        "    #Loop through all revolutions to the max values and solve for each solution\n",
        "    for num_revs in range(max_revs + 1):\n",
        "        #I use a try/except method so that the code may keep executing until the function fails to converge then just outputs the optimal solution\n",
        "        try:\n",
        "            v0, vf = izzo.lambert(Earth.k, r0, rf, tof, M=num_revs)\n",
        "            delta_v = np.linalg.norm(vf - v0)\n",
        "\n",
        "            #Compare the the currents solution delta-V to the stored lowest delta-V. If smaller replace as the most optimum solution and save the values.\n",
        "            if delta_v < min_delta_v:\n",
        "                min_delta_v = delta_v\n",
        "                optimal_solution = (v0, vf)\n",
        "                optimal_num_revs = num_revs\n",
        "        except ValueError:\n",
        "            pass\n",
        "\n",
        "    return optimal_solution, optimal_num_revs\n",
        "\n",
        "#Creates the simulated data array with zeros\n",
        "results = np.zeros((100000, 14))\n",
        "\n",
        "#Create the 100,000 data points\n",
        "for i in range(100000):\n",
        "\n",
        "  #Initialize random position vectors\n",
        "  r0 = random_position()\n",
        "  rf = random_position()\n",
        "\n",
        "  #Creates a random tof from 30 minutes to 10,080 minutes or one week.\n",
        "  tof = random.uniform(30, 10080) * u.min # 1 Week\n",
        "\n",
        "  #Limits the find_optimal_solution search in order to reduce computation time\n",
        "  max_revs = 20\n",
        "\n",
        "  #Calls the find_optimal solution function\n",
        "  optimal_solution, optimal_num_revs = find_optimal_solution(r0, rf, tof, max_revs)\n",
        "  v0, vf = optimal_solution\n",
        "\n",
        "  #Store results and inputs into one data point.\n",
        "  result = np.hstack((\n",
        "        r0.value,\n",
        "        rf.value,\n",
        "        tof.value,\n",
        "        v0.value,\n",
        "        vf.value,\n",
        "        optimal_num_revs))\n",
        "\n",
        "  results[i, :] = result\n",
        "\n",
        "#Saves the data into a csv file to be later used \n",
        "np.savetxt(\"lambert_data.csv\", results, delimiter=\",\", header=\"r0_x,r0_y,r0_z,rf_x,rf_y,rf_z,tof,v0_x,v0_y,v0_z,vf_x,vf_y,vf_z,num_revs\")"
      ],
      "metadata": {
        "id": "7f6J36pG0_rx",
        "colab": {
          "base_uri": "https://localhost:8080/",
          "height": 479
        },
        "outputId": "00ea7e91-62ff-4990-b555-d864353e9913"
      },
      "execution_count": 5,
      "outputs": [
        {
          "output_type": "stream",
          "name": "stderr",
          "text": [
            "Exception ignored on calling ctypes callback function: <function ExecutionEngine._raw_object_cache_notify at 0x7f6d881655e0>\n",
            "Traceback (most recent call last):\n",
            "  File \"/usr/local/lib/python3.9/dist-packages/llvmlite/binding/executionengine.py\", line 171, in _raw_object_cache_notify\n",
            "    def _raw_object_cache_notify(self, data):\n",
            "KeyboardInterrupt: \n"
          ]
        },
        {
          "output_type": "error",
          "ename": "KeyboardInterrupt",
          "evalue": "ignored",
          "traceback": [
            "\u001b[0;31m---------------------------------------------------------------------------\u001b[0m",
            "\u001b[0;31mKeyboardInterrupt\u001b[0m                         Traceback (most recent call last)",
            "\u001b[0;32m<ipython-input-5-4086cd9e507e>\u001b[0m in \u001b[0;36m<cell line: 43>\u001b[0;34m()\u001b[0m\n\u001b[1;32m     48\u001b[0m   \u001b[0mmax_revs\u001b[0m \u001b[0;34m=\u001b[0m \u001b[0;36m20\u001b[0m\u001b[0;34m\u001b[0m\u001b[0;34m\u001b[0m\u001b[0m\n\u001b[1;32m     49\u001b[0m \u001b[0;34m\u001b[0m\u001b[0m\n\u001b[0;32m---> 50\u001b[0;31m   \u001b[0moptimal_solution\u001b[0m\u001b[0;34m,\u001b[0m \u001b[0moptimal_num_revs\u001b[0m \u001b[0;34m=\u001b[0m \u001b[0mfind_optimal_solution\u001b[0m\u001b[0;34m(\u001b[0m\u001b[0mr0\u001b[0m\u001b[0;34m,\u001b[0m \u001b[0mrf\u001b[0m\u001b[0;34m,\u001b[0m \u001b[0mtof\u001b[0m\u001b[0;34m,\u001b[0m \u001b[0mmax_revs\u001b[0m\u001b[0;34m)\u001b[0m\u001b[0;34m\u001b[0m\u001b[0;34m\u001b[0m\u001b[0m\n\u001b[0m\u001b[1;32m     51\u001b[0m   \u001b[0mv0\u001b[0m\u001b[0;34m,\u001b[0m \u001b[0mvf\u001b[0m \u001b[0;34m=\u001b[0m \u001b[0moptimal_solution\u001b[0m\u001b[0;34m\u001b[0m\u001b[0;34m\u001b[0m\u001b[0m\n\u001b[1;32m     52\u001b[0m \u001b[0;34m\u001b[0m\u001b[0m\n",
            "\u001b[0;32m<ipython-input-5-4086cd9e507e>\u001b[0m in \u001b[0;36mfind_optimal_solution\u001b[0;34m(r0, rf, tof, max_revs)\u001b[0m\n\u001b[1;32m     24\u001b[0m         \u001b[0;31m#I use a try/except method so that the code may keep executing until the function fails to converge then just outputs the optimal solution\u001b[0m\u001b[0;34m\u001b[0m\u001b[0;34m\u001b[0m\u001b[0m\n\u001b[1;32m     25\u001b[0m         \u001b[0;32mtry\u001b[0m\u001b[0;34m:\u001b[0m\u001b[0;34m\u001b[0m\u001b[0;34m\u001b[0m\u001b[0m\n\u001b[0;32m---> 26\u001b[0;31m             \u001b[0mv0\u001b[0m\u001b[0;34m,\u001b[0m \u001b[0mvf\u001b[0m \u001b[0;34m=\u001b[0m \u001b[0mizzo\u001b[0m\u001b[0;34m.\u001b[0m\u001b[0mlambert\u001b[0m\u001b[0;34m(\u001b[0m\u001b[0mEarth\u001b[0m\u001b[0;34m.\u001b[0m\u001b[0mk\u001b[0m\u001b[0;34m,\u001b[0m \u001b[0mr0\u001b[0m\u001b[0;34m,\u001b[0m \u001b[0mrf\u001b[0m\u001b[0;34m,\u001b[0m \u001b[0mtof\u001b[0m\u001b[0;34m,\u001b[0m \u001b[0mM\u001b[0m\u001b[0;34m=\u001b[0m\u001b[0mnum_revs\u001b[0m\u001b[0;34m)\u001b[0m\u001b[0;34m\u001b[0m\u001b[0;34m\u001b[0m\u001b[0m\n\u001b[0m\u001b[1;32m     27\u001b[0m             \u001b[0mdelta_v\u001b[0m \u001b[0;34m=\u001b[0m \u001b[0mnp\u001b[0m\u001b[0;34m.\u001b[0m\u001b[0mlinalg\u001b[0m\u001b[0;34m.\u001b[0m\u001b[0mnorm\u001b[0m\u001b[0;34m(\u001b[0m\u001b[0mvf\u001b[0m \u001b[0;34m-\u001b[0m \u001b[0mv0\u001b[0m\u001b[0;34m)\u001b[0m\u001b[0;34m\u001b[0m\u001b[0;34m\u001b[0m\u001b[0m\n\u001b[1;32m     28\u001b[0m \u001b[0;34m\u001b[0m\u001b[0m\n",
            "\u001b[0;32m/usr/local/lib/python3.9/dist-packages/poliastro/iod/izzo.py\u001b[0m in \u001b[0;36mlambert\u001b[0;34m(k, r0, r, tof, M, prograde, lowpath, numiter, rtol)\u001b[0m\n\u001b[1;32m     44\u001b[0m \u001b[0;34m\u001b[0m\u001b[0m\n\u001b[1;32m     45\u001b[0m     \"\"\"\n\u001b[0;32m---> 46\u001b[0;31m     \u001b[0mk_\u001b[0m \u001b[0;34m=\u001b[0m \u001b[0mk\u001b[0m\u001b[0;34m.\u001b[0m\u001b[0mto_value\u001b[0m\u001b[0;34m(\u001b[0m\u001b[0mu\u001b[0m\u001b[0;34m.\u001b[0m\u001b[0mkm\u001b[0m\u001b[0;34m**\u001b[0m\u001b[0;36m3\u001b[0m \u001b[0;34m/\u001b[0m \u001b[0mu\u001b[0m\u001b[0;34m.\u001b[0m\u001b[0ms\u001b[0m\u001b[0;34m**\u001b[0m\u001b[0;36m2\u001b[0m\u001b[0;34m)\u001b[0m\u001b[0;34m\u001b[0m\u001b[0;34m\u001b[0m\u001b[0m\n\u001b[0m\u001b[1;32m     47\u001b[0m     \u001b[0mr0_\u001b[0m \u001b[0;34m=\u001b[0m \u001b[0mr0\u001b[0m\u001b[0;34m.\u001b[0m\u001b[0mto_value\u001b[0m\u001b[0;34m(\u001b[0m\u001b[0mu\u001b[0m\u001b[0;34m.\u001b[0m\u001b[0mkm\u001b[0m\u001b[0;34m)\u001b[0m\u001b[0;34m\u001b[0m\u001b[0;34m\u001b[0m\u001b[0m\n\u001b[1;32m     48\u001b[0m     \u001b[0mr_\u001b[0m \u001b[0;34m=\u001b[0m \u001b[0mr\u001b[0m\u001b[0;34m.\u001b[0m\u001b[0mto_value\u001b[0m\u001b[0;34m(\u001b[0m\u001b[0mu\u001b[0m\u001b[0;34m.\u001b[0m\u001b[0mkm\u001b[0m\u001b[0;34m)\u001b[0m\u001b[0;34m\u001b[0m\u001b[0;34m\u001b[0m\u001b[0m\n",
            "\u001b[0;32m/usr/local/lib/python3.9/dist-packages/astropy/units/core.py\u001b[0m in \u001b[0;36m__truediv__\u001b[0;34m(self, m)\u001b[0m\n\u001b[1;32m    806\u001b[0m             \u001b[0;32mif\u001b[0m \u001b[0mm\u001b[0m\u001b[0;34m.\u001b[0m\u001b[0mis_unity\u001b[0m\u001b[0;34m(\u001b[0m\u001b[0;34m)\u001b[0m\u001b[0;34m:\u001b[0m\u001b[0;34m\u001b[0m\u001b[0;34m\u001b[0m\u001b[0m\n\u001b[1;32m    807\u001b[0m                 \u001b[0;32mreturn\u001b[0m \u001b[0mself\u001b[0m\u001b[0;34m\u001b[0m\u001b[0;34m\u001b[0m\u001b[0m\n\u001b[0;32m--> 808\u001b[0;31m             \u001b[0;32mreturn\u001b[0m \u001b[0mCompositeUnit\u001b[0m\u001b[0;34m(\u001b[0m\u001b[0;36m1\u001b[0m\u001b[0;34m,\u001b[0m \u001b[0;34m[\u001b[0m\u001b[0mself\u001b[0m\u001b[0;34m,\u001b[0m \u001b[0mm\u001b[0m\u001b[0;34m]\u001b[0m\u001b[0;34m,\u001b[0m \u001b[0;34m[\u001b[0m\u001b[0;36m1\u001b[0m\u001b[0;34m,\u001b[0m \u001b[0;34m-\u001b[0m\u001b[0;36m1\u001b[0m\u001b[0;34m]\u001b[0m\u001b[0;34m,\u001b[0m \u001b[0m_error_check\u001b[0m\u001b[0;34m=\u001b[0m\u001b[0;32mFalse\u001b[0m\u001b[0;34m)\u001b[0m\u001b[0;34m\u001b[0m\u001b[0;34m\u001b[0m\u001b[0m\n\u001b[0m\u001b[1;32m    809\u001b[0m \u001b[0;34m\u001b[0m\u001b[0m\n\u001b[1;32m    810\u001b[0m         \u001b[0;32mtry\u001b[0m\u001b[0;34m:\u001b[0m\u001b[0;34m\u001b[0m\u001b[0;34m\u001b[0m\u001b[0m\n",
            "\u001b[0;32m/usr/local/lib/python3.9/dist-packages/astropy/units/core.py\u001b[0m in \u001b[0;36m__init__\u001b[0;34m(self, scale, bases, powers, decompose, decompose_bases, _error_check)\u001b[0m\n\u001b[1;32m   2318\u001b[0m             \u001b[0;31m# Regular case: use inputs as preliminary scale, bases, and powers,\u001b[0m\u001b[0;34m\u001b[0m\u001b[0;34m\u001b[0m\u001b[0m\n\u001b[1;32m   2319\u001b[0m             \u001b[0;31m# then \"expand and gather\" identical bases, sanitize the scale, &c.\u001b[0m\u001b[0;34m\u001b[0m\u001b[0;34m\u001b[0m\u001b[0m\n\u001b[0;32m-> 2320\u001b[0;31m             \u001b[0mself\u001b[0m\u001b[0;34m.\u001b[0m\u001b[0m_scale\u001b[0m \u001b[0;34m=\u001b[0m \u001b[0mscale\u001b[0m\u001b[0;34m\u001b[0m\u001b[0;34m\u001b[0m\u001b[0m\n\u001b[0m\u001b[1;32m   2321\u001b[0m             \u001b[0mself\u001b[0m\u001b[0;34m.\u001b[0m\u001b[0m_bases\u001b[0m \u001b[0;34m=\u001b[0m \u001b[0mbases\u001b[0m\u001b[0;34m\u001b[0m\u001b[0;34m\u001b[0m\u001b[0m\n\u001b[1;32m   2322\u001b[0m             \u001b[0mself\u001b[0m\u001b[0;34m.\u001b[0m\u001b[0m_powers\u001b[0m \u001b[0;34m=\u001b[0m \u001b[0mpowers\u001b[0m\u001b[0;34m\u001b[0m\u001b[0;34m\u001b[0m\u001b[0m\n",
            "\u001b[0;31mKeyboardInterrupt\u001b[0m: "
          ]
        }
      ]
    }
  ]
}